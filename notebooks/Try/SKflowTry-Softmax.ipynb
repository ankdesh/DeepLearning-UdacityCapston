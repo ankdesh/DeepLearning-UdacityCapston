{
 "cells": [
  {
   "cell_type": "code",
   "execution_count": 1,
   "metadata": {
    "collapsed": true
   },
   "outputs": [],
   "source": [
    "#  Copyright 2016 The TensorFlow Authors. All Rights Reserved.\n",
    "#\n",
    "#  Licensed under the Apache License, Version 2.0 (the \"License\");\n",
    "#  you may not use this file except in compliance with the License.\n",
    "#  You may obtain a copy of the License at\n",
    "#\n",
    "#   http://www.apache.org/licenses/LICENSE-2.0\n",
    "#\n",
    "#  Unless required by applicable law or agreed to in writing, software\n",
    "#  distributed under the License is distributed on an \"AS IS\" BASIS,\n",
    "#  WITHOUT WARRANTIES OR CONDITIONS OF ANY KIND, either express or implied.\n",
    "#  See the License for the specific language governing permissions and\n",
    "#  limitations under the License."
   ]
  },
  {
   "cell_type": "code",
   "execution_count": 2,
   "metadata": {
    "collapsed": true
   },
   "outputs": [],
   "source": [
    "from __future__ import absolute_import\n",
    "from __future__ import division\n",
    "from __future__ import print_function\n",
    "\n",
    "from sklearn import metrics\n",
    "import tensorflow as tf\n",
    "from tensorflow.contrib import learn"
   ]
  },
  {
   "cell_type": "code",
   "execution_count": 3,
   "metadata": {
    "collapsed": false
   },
   "outputs": [
    {
     "name": "stdout",
     "output_type": "stream",
     "text": [
      "Extracting MNIST_data/train-images-idx3-ubyte.gz\n",
      "Extracting MNIST_data/train-labels-idx1-ubyte.gz\n",
      "Extracting MNIST_data/t10k-images-idx3-ubyte.gz\n",
      "Extracting MNIST_data/t10k-labels-idx1-ubyte.gz\n"
     ]
    }
   ],
   "source": [
    "### Download and load MNIST data.\n",
    "\n",
    "mnist = learn.datasets.load_dataset('mnist')"
   ]
  },
  {
   "cell_type": "code",
   "execution_count": 4,
   "metadata": {
    "collapsed": true
   },
   "outputs": [],
   "source": [
    "### Convolutional network\n",
    "\n",
    "\n",
    "def max_pool_2x2(tensor_in):\n",
    "  return tf.nn.max_pool(\n",
    "      tensor_in, ksize=[1, 2, 2, 1], strides=[1, 2, 2, 1], padding='SAME')\n",
    "\n",
    "\n",
    "def conv_model(X, y):\n",
    "  # pylint: disable=invalid-name,missing-docstring\n",
    "  # reshape X to 4d tensor with 2nd and 3rd dimensions being image width and\n",
    "  # height final dimension being the number of color channels.\n",
    "  X = tf.reshape(X, [-1, 28, 28, 1])\n",
    "  # first conv layer will compute 32 features for each 5x5 patch\n",
    "  with tf.variable_scope('conv_layer1'):\n",
    "    h_conv1 = learn.ops.conv2d(X, n_filters=32, filter_shape=[5, 5],\n",
    "                               bias=True, activation=tf.nn.relu)\n",
    "    h_pool1 = max_pool_2x2(h_conv1)\n",
    "  # second conv layer will compute 64 features for each 5x5 patch.\n",
    "  with tf.variable_scope('conv_layer2'):\n",
    "    h_conv2 = learn.ops.conv2d(h_pool1, n_filters=64, filter_shape=[5, 5],\n",
    "                               bias=True, activation=tf.nn.relu)\n",
    "    h_pool2 = max_pool_2x2(h_conv2)\n",
    "    # reshape tensor into a batch of vectors\n",
    "    h_pool2_flat = tf.reshape(h_pool2, [-1, 7 * 7 * 64])\n",
    "  # densely connected layer with 1024 neurons.\n",
    "  h_fc1 = tf.contrib.layers.dropout(\n",
    "      tf.contrib.layers.legacy_fully_connected(\n",
    "          h_pool2_flat, 1024, weight_init=None, activation_fn=tf.nn.relu))\n",
    "  return learn.models.logistic_regression(h_fc1, y)"
   ]
  },
  {
   "cell_type": "code",
   "execution_count": 5,
   "metadata": {
    "collapsed": false
   },
   "outputs": [],
   "source": [
    "\n",
    "# Training and predicting.\n",
    "classifier = learn.TensorFlowEstimator(\n",
    "    model_fn=conv_model, n_classes=10, batch_size=32, steps=2000,\n",
    "    learning_rate=0.001)"
   ]
  },
  {
   "cell_type": "code",
   "execution_count": 6,
   "metadata": {
    "collapsed": false
   },
   "outputs": [
    {
     "name": "stdout",
     "output_type": "stream",
     "text": [
      "<type 'numpy.ndarray'>\n"
     ]
    }
   ],
   "source": [
    "print (type(mnist.train.labels))"
   ]
  },
  {
   "cell_type": "code",
   "execution_count": 7,
   "metadata": {
    "collapsed": false
   },
   "outputs": [
    {
     "data": {
      "text/plain": [
       "TensorFlowEstimator(continue_training=False, optimizer=Adagrad, verbose=1, learning_rate=0.001, batch_size=32, steps=2000, n_classes=10, params=None, clip_gradients=5.0, class_weight=None)"
      ]
     },
     "execution_count": 7,
     "metadata": {},
     "output_type": "execute_result"
    }
   ],
   "source": [
    "classifier.fit(mnist.train.images, mnist.train.labels)"
   ]
  },
  {
   "cell_type": "code",
   "execution_count": 10,
   "metadata": {
    "collapsed": false
   },
   "outputs": [],
   "source": [
    "prob_test_y = classifier.predict_proba(mnist.test.images)\n",
    "#print('Accuracy: {0:f}'.format(score))"
   ]
  },
  {
   "cell_type": "code",
   "execution_count": 17,
   "metadata": {
    "collapsed": false
   },
   "outputs": [],
   "source": [
    "isPredictable = lambda x: any(prob_test_y[x] > 0.9 )\n",
    "predictables = [isPredictable(i) for i in range(len(prob_test_y))]"
   ]
  },
  {
   "cell_type": "code",
   "execution_count": 22,
   "metadata": {
    "collapsed": false
   },
   "outputs": [],
   "source": [
    "idxNonPredictable = [i for i,x in enumerate(predictables) if x == False]"
   ]
  },
  {
   "cell_type": "code",
   "execution_count": 30,
   "metadata": {
    "collapsed": false
   },
   "outputs": [
    {
     "data": {
      "text/plain": [
       "<matplotlib.image.AxesImage at 0x7fadb071a9d0>"
      ]
     },
     "execution_count": 30,
     "metadata": {},
     "output_type": "execute_result"
    },
    {
     "data": {
      "image/png": "[encoded data removed]",
      "text/plain": [
       "<matplotlib.figure.Figure at 0x7fae5e344290>"
      ]
     },
     "metadata": {},
     "output_type": "display_data"
    }
   ],
   "source": [
    "import matplotlib.pyplot as plt\n",
    "%matplotlib inline\n",
    "plt.imshow(mnist.test.images[idxNonPredictable[2]].reshape(-1,28))"
   ]
  },
  {
   "cell_type": "code",
   "execution_count": null,
   "metadata": {
    "collapsed": true
   },
   "outputs": [],
   "source": []
  }
 ],
 "metadata": {
  "kernelspec": {
   "display_name": "Python 2",
   "language": "python",
   "name": "python2"
  },
  "language_info": {
   "codemirror_mode": {
    "name": "ipython",
    "version": 2
   },
   "file_extension": ".py",
   "mimetype": "text/x-python",
   "name": "python",
   "nbconvert_exporter": "python",
   "pygments_lexer": "ipython2",
   "version": "2.7.12"
  }
 },
 "nbformat": 4,
 "nbformat_minor": 0
}
