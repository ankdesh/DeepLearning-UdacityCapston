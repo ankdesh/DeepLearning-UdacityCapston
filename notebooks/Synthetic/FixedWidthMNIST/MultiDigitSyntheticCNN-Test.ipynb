{
 "cells": [
  {
   "cell_type": "code",
   "execution_count": 1,
   "metadata": {
    "collapsed": false
   },
   "outputs": [],
   "source": [
    "from __future__ import division, print_function, absolute_import\n",
    "\n",
    "import tflearn\n",
    "from tflearn.layers.core import input_data, dropout, fully_connected\n",
    "from tflearn.layers.conv import conv_2d, max_pool_2d\n",
    "from tflearn.layers.normalization import local_response_normalization\n",
    "from tflearn.layers.estimator import regression\n",
    "#import GenSyntheticMNSITFixedWidthModule as GenDataset\n",
    "import numpy as np\n",
    "import matplotlib.pyplot as plt\n",
    "from sklearn.model_selection import train_test_split"
   ]
  },
  {
   "cell_type": "code",
   "execution_count": 2,
   "metadata": {
    "collapsed": false
   },
   "outputs": [],
   "source": [
    "# Consts\n",
    "DATSET_SIZE = 10000\n",
    "WIDTH_NUMS = 2"
   ]
  },
  {
   "cell_type": "code",
   "execution_count": 3,
   "metadata": {
    "collapsed": true
   },
   "outputs": [],
   "source": [
    "def dense_to_one_hot(labels_dense, num_classes=10):\n",
    "    \"\"\"Convert class labels from scalars to one-hot vectors.\"\"\"\n",
    "    num_labels = labels_dense.shape[0]\n",
    "    index_offset = np.arange(num_labels) * num_classes\n",
    "    labels_one_hot = np.zeros((num_labels, num_classes))\n",
    "    print (index_offset + labels_dense.ravel())\n",
    "    labels_one_hot.flat[index_offset + labels_dense.ravel()] = 1\n",
    "    return labels_one_hot"
   ]
  },
  {
   "cell_type": "code",
   "execution_count": 4,
   "metadata": {
    "collapsed": false
   },
   "outputs": [],
   "source": [
    "# Get the dataset\n",
    "X, Y = GenDataset.getDataSet(WIDTH_NUMS, DATSET_SIZE)\n",
    "X = X.reshape([-1, 28, 28 * WIDTH_NUMS, 1])"
   ]
  },
  {
   "cell_type": "code",
   "execution_count": 5,
   "metadata": {
    "collapsed": false
   },
   "outputs": [
    {
     "name": "stdout",
     "output_type": "stream",
     "text": [
      "(10000, 28, 56, 1)\n"
     ]
    }
   ],
   "source": [
    "print (X.shape)"
   ]
  },
  {
   "cell_type": "code",
   "execution_count": 6,
   "metadata": {
    "collapsed": false
   },
   "outputs": [
    {
     "name": "stdout",
     "output_type": "stream",
     "text": [
      "[    3    14    23 ..., 80191 80206 80216]\n",
      "[    5    18    28 ..., 80194 80206 80219]\n",
      "[    8    17    23 ..., 19759 19762 19773]\n",
      "[    2    16    25 ..., 19758 19766 19774]\n"
     ]
    }
   ],
   "source": [
    "# Generate validation set\n",
    "ratio = 0.8 # Train/Test set\n",
    "randIdx = np.random.random(DATSET_SIZE) <= ratio\n",
    "#print (sum(map(lambda x: int(x), randIdx)))\n",
    "X_train = X[randIdx]\n",
    "Y_train = Y[randIdx]\n",
    "X_test = X[randIdx == False]\n",
    "Y_test = Y[randIdx == False]\n",
    "Y_train = [dense_to_one_hot(Y_train[:,idx]) for idx in range(Y_train.shape[1])] \n",
    "Y_test = [dense_to_one_hot(Y_test[:,idx]) for idx in range(Y_test.shape[1])] \n",
    "del X, Y # release some space"
   ]
  },
  {
   "cell_type": "code",
   "execution_count": 7,
   "metadata": {
    "collapsed": false
   },
   "outputs": [
    {
     "name": "stdout",
     "output_type": "stream",
     "text": [
      "[array([ 0.,  0.,  0.,  0.,  0.,  0.,  1.,  0.,  0.,  0.]), array([ 0.,  0.,  0.,  0.,  0.,  0.,  0.,  0.,  0.,  1.])]\n",
      "(28, 56, 1)\n"
     ]
    },
    {
     "data": {
      "text/plain": [
       "<matplotlib.image.AxesImage at 0x7f7b8973cc50>"
      ]
     },
     "execution_count": 7,
     "metadata": {},
     "output_type": "execute_result"
    },
    {
     "data": {
      "image/png": "[encoded data removed]",
      "text/plain": [
       "<matplotlib.figure.Figure at 0x7f7c0e47bf50>"
      ]
     },
     "metadata": {},
     "output_type": "display_data"
    }
   ],
   "source": [
    "# Test a sample data\n",
    "%matplotlib inline\n",
    "idx = np.random.randint(0,X_train.shape[0])\n",
    "print ([Y_train[i][idx] for i in range(len(Y_train))])\n",
    "print (X_train[idx].shape)\n",
    "plt.imshow(np.squeeze(X_train[idx]), cmap = 'gray')"
   ]
  },
  {
   "cell_type": "code",
   "execution_count": 8,
   "metadata": {
    "collapsed": false
   },
   "outputs": [],
   "source": [
    "# Building convolutional network\n",
    "network = input_data(shape=[None, 28, 28 * WIDTH_NUMS, 1], name='input')\n",
    "network = conv_2d(network, 32, 3, activation='relu', regularizer=\"L2\")\n",
    "network = max_pool_2d(network, 2)\n",
    "network = local_response_normalization(network)\n",
    "network = conv_2d(network, 64, 3, activation='relu', regularizer=\"L2\")\n",
    "network = max_pool_2d(network, 2)\n",
    "network = local_response_normalization(network)\n",
    "fc_1 = fully_connected(network, 128, activation='tanh')\n",
    "fc_1 = dropout(fc_1, 0.8)\n",
    "fc_2 = fully_connected(network, 128, activation='tanh')\n",
    "fc_2 = dropout(fc_2, 0.8)\n",
    "softmax1 = fully_connected(fc_1, 10, activation='softmax')\n",
    "softmax2 = fully_connected(fc_2, 10, activation='softmax')\n",
    "network1 = regression(softmax1, optimizer='adam', learning_rate=0.01,\n",
    "                     loss='categorical_crossentropy', name='target1')\n",
    "network2 = regression(softmax2, optimizer='adam', learning_rate=0.01,\n",
    "                     loss='categorical_crossentropy', name='target2')\n",
    "network = tflearn.merge([network1, network2], mode='elemwise_sum')"
   ]
  },
  {
   "cell_type": "code",
   "execution_count": 9,
   "metadata": {
    "collapsed": false
   },
   "outputs": [
    {
     "name": "stdout",
     "output_type": "stream",
     "text": [
      "Training Step: 630  | total loss: \u001b[1m\u001b[32m0.10910\u001b[0m\u001b[0m\n",
      "| Adam_0 | epoch: 005 | loss: 0.07524 - acc: 0.9823 | val_loss: 0.10004 - val_acc: 0.9666 -- iter: 8022/8022\n",
      "| Adam_1 | epoch: 005 | loss: 0.03386 - acc: 0.9895 | val_loss: 0.10465 - val_acc: 0.9712 -- iter: 8022/8022\n",
      "Training Step: 630  | total loss: \u001b[1m\u001b[32m0.10910\u001b[0m\u001b[0m\n",
      "| Adam_0 | epoch: 005 | loss: 0.07524 - acc: 0.9823 | val_loss: 0.10004 - val_acc: 0.9666 -- iter: 8022/8022\n",
      "| Adam_1 | epoch: 005 | loss: 0.03386 - acc: 0.9895 | val_loss: 0.10465 - val_acc: 0.9712 -- iter: 8022/8022\n",
      "--\n"
     ]
    }
   ],
   "source": [
    "model = tflearn.DNN(network, tensorboard_verbose=1)\n",
    "model.fit({'input': X_train}, {'target1': Y_train[0], 'target2': Y_train[1]}, \n",
    "          validation_set= (X_test, [Y_test[0], Y_test[1]]), n_epoch=5, snapshot_step=100, show_metric=True, run_id='convnet_mnist_')"
   ]
  },
  {
   "cell_type": "code",
   "execution_count": null,
   "metadata": {
    "collapsed": true
   },
   "outputs": [],
   "source": []
  }
 ],
 "metadata": {
  "kernelspec": {
   "display_name": "Python 2",
   "language": "python",
   "name": "python2"
  },
  "language_info": {
   "codemirror_mode": {
    "name": "ipython",
    "version": 2
   },
   "file_extension": ".py",
   "mimetype": "text/x-python",
   "name": "python",
   "nbconvert_exporter": "python",
   "pygments_lexer": "ipython2",
   "version": "2.7.12"
  }
 },
 "nbformat": 4,
 "nbformat_minor": 1
}
