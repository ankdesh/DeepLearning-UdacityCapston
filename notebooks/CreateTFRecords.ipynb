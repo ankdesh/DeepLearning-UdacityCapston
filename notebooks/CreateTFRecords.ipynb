{
 "cells": [
  {
   "cell_type": "code",
   "execution_count": 38,
   "metadata": {
    "collapsed": false
   },
   "outputs": [],
   "source": [
    "import tensorflow as tf\n",
    "import os\n",
    "import random\n",
    "import pylab\n",
    "import numpy as np\n",
    "import matplotlib.pyplot as plt\n",
    "import glob\n",
    "from PIL import Image"
   ]
  },
  {
   "cell_type": "code",
   "execution_count": 39,
   "metadata": {
    "collapsed": true
   },
   "outputs": [],
   "source": [
    "DATA_FOLDER = '/home/ankdesh/temp/sample/'"
   ]
  },
  {
   "cell_type": "code",
   "execution_count": 80,
   "metadata": {
    "collapsed": true
   },
   "outputs": [],
   "source": [
    "def getNextImage(dirName):\n",
    "    allFileNames = glob.glob(dirName + '/*')\n",
    "    random.shuffle(allFileNames)\n",
    "    for imgFile in allFileNames:\n",
    "        img = Image.open(imgFile)\n",
    "        img = img.resize((100,100), resample = (Image.BILINEAR))\n",
    "        #my_img = tf.image.decode_png(imgFile)\n",
    "        yield np.asarray(img)"
   ]
  },
  {
   "cell_type": "code",
   "execution_count": 84,
   "metadata": {
    "collapsed": false
   },
   "outputs": [
    {
     "data": {
      "text/plain": [
       "(100, 100, 3)"
      ]
     },
     "execution_count": 84,
     "metadata": {},
     "output_type": "execute_result"
    }
   ],
   "source": [
    "asd = [x for x in getNextImage(DATA_FOLDER)][0]\n",
    "asd.shape"
   ]
  },
  {
   "cell_type": "code",
   "execution_count": 83,
   "metadata": {
    "collapsed": true
   },
   "outputs": [],
   "source": [
    "def _int64_feature(value):\n",
    "  return tf.train.Feature(int64_list=tf.train.Int64List(value=[value]))\n",
    "\n",
    "\n",
    "def _bytes_feature(value):\n",
    "  return tf.train.Feature(bytes_list=tf.train.BytesList(value=[value]))\n"
   ]
  },
  {
   "cell_type": "code",
   "execution_count": 27,
   "metadata": {
    "collapsed": false,
    "scrolled": false
   },
   "outputs": [
    {
     "name": "stdout",
     "output_type": "stream",
     "text": [
      "[<PIL.PngImagePlugin.PngImageFile image mode=RGB size=143x66 at 0x7F35209F2550>, <PIL.PngImagePlugin.PngImageFile image mode=RGB size=307x125 at 0x7F35209F2050>, <PIL.PngImagePlugin.PngImageFile image mode=RGB size=358x146 at 0x7F35209F2610>, <PIL.PngImagePlugin.PngImageFile image mode=RGB size=112x48 at 0x7F35209F2750>, <PIL.PngImagePlugin.PngImageFile image mode=RGB size=481x187 at 0x7F35209F2650>, <PIL.PngImagePlugin.PngImageFile image mode=RGB size=158x62 at 0x7F35209F26D0>, <PIL.PngImagePlugin.PngImageFile image mode=RGB size=213x84 at 0x7F35209F22D0>, <PIL.PngImagePlugin.PngImageFile image mode=RGB size=209x95 at 0x7F35209F2590>, <PIL.PngImagePlugin.PngImageFile image mode=RGB size=327x152 at 0x7F35209F2890>, <PIL.PngImagePlugin.PngImageFile image mode=RGB size=88x34 at 0x7F35209F2910>, <PIL.PngImagePlugin.PngImageFile image mode=RGB size=75x34 at 0x7F35209F2990>, <PIL.PngImagePlugin.PngImageFile image mode=RGB size=108x46 at 0x7F35209F2A10>, <PIL.PngImagePlugin.PngImageFile image mode=RGB size=193x96 at 0x7F35209F2A90>, <PIL.PngImagePlugin.PngImageFile image mode=RGB size=95x39 at 0x7F35209F2B10>, <PIL.PngImagePlugin.PngImageFile image mode=RGB size=308x68 at 0x7F35209F2B90>, <PIL.PngImagePlugin.PngImageFile image mode=RGB size=245x111 at 0x7F35209F2C10>, <PIL.PngImagePlugin.PngImageFile image mode=RGB size=102x46 at 0x7F35209F2C90>, <PIL.PngImagePlugin.PngImageFile image mode=RGB size=107x41 at 0x7F35209F2D10>, <PIL.PngImagePlugin.PngImageFile image mode=RGB size=168x77 at 0x7F35209F2D90>, <PIL.PngImagePlugin.PngImageFile image mode=RGB size=71x30 at 0x7F35209F2E10>, <PIL.PngImagePlugin.PngImageFile image mode=RGB size=224x60 at 0x7F35209F2E90>, <PIL.PngImagePlugin.PngImageFile image mode=RGB size=206x98 at 0x7F35209F2F10>, <PIL.PngImagePlugin.PngImageFile image mode=RGB size=57x26 at 0x7F35209F2F90>, <PIL.PngImagePlugin.PngImageFile image mode=RGB size=448x154 at 0x7F3520A03050>, <PIL.PngImagePlugin.PngImageFile image mode=RGB size=275x91 at 0x7F3520A030D0>, <PIL.PngImagePlugin.PngImageFile image mode=RGB size=345x155 at 0x7F3520A03150>, <PIL.PngImagePlugin.PngImageFile image mode=RGB size=110x49 at 0x7F3520A031D0>, <PIL.PngImagePlugin.PngImageFile image mode=RGB size=128x55 at 0x7F3520A03250>, <PIL.PngImagePlugin.PngImageFile image mode=RGB size=185x80 at 0x7F3520A032D0>, <PIL.PngImagePlugin.PngImageFile image mode=RGB size=79x34 at 0x7F3520A03350>, <PIL.PngImagePlugin.PngImageFile image mode=RGB size=257x101 at 0x7F3520A033D0>, <PIL.PngImagePlugin.PngImageFile image mode=RGB size=90x42 at 0x7F3520A03450>, <PIL.PngImagePlugin.PngImageFile image mode=RGB size=150x60 at 0x7F3520A034D0>, <PIL.PngImagePlugin.PngImageFile image mode=RGB size=96x42 at 0x7F3520A03550>, <PIL.PngImagePlugin.PngImageFile image mode=RGB size=312x133 at 0x7F3520A035D0>, <PIL.PngImagePlugin.PngImageFile image mode=RGB size=212x67 at 0x7F3520A03650>, <PIL.PngImagePlugin.PngImageFile image mode=RGB size=192x55 at 0x7F3520A036D0>, <PIL.PngImagePlugin.PngImageFile image mode=RGB size=177x57 at 0x7F3520A03750>, <PIL.PngImagePlugin.PngImageFile image mode=RGB size=157x63 at 0x7F3520A037D0>, <PIL.PngImagePlugin.PngImageFile image mode=RGB size=118x43 at 0x7F3520A03850>, <PIL.PngImagePlugin.PngImageFile image mode=RGB size=105x41 at 0x7F3520A038D0>, <PIL.PngImagePlugin.PngImageFile image mode=RGB size=106x50 at 0x7F3520A03950>, <PIL.PngImagePlugin.PngImageFile image mode=RGB size=245x196 at 0x7F3520A039D0>, <PIL.PngImagePlugin.PngImageFile image mode=RGB size=396x185 at 0x7F3520A03A50>, <PIL.PngImagePlugin.PngImageFile image mode=RGB size=462x218 at 0x7F3520A03AD0>, <PIL.PngImagePlugin.PngImageFile image mode=RGB size=118x53 at 0x7F3520A03B50>, <PIL.PngImagePlugin.PngImageFile image mode=RGB size=207x110 at 0x7F3520A03BD0>, <PIL.PngImagePlugin.PngImageFile image mode=RGB size=122x47 at 0x7F3520A03C50>, <PIL.PngImagePlugin.PngImageFile image mode=RGB size=98x32 at 0x7F3520A03CD0>, <PIL.PngImagePlugin.PngImageFile image mode=RGB size=110x74 at 0x7F3520A03D50>, <PIL.PngImagePlugin.PngImageFile image mode=RGB size=108x41 at 0x7F3520A03DD0>, <PIL.PngImagePlugin.PngImageFile image mode=RGB size=152x68 at 0x7F3520A03E50>, <PIL.PngImagePlugin.PngImageFile image mode=RGB size=129x53 at 0x7F3520A03ED0>, <PIL.PngImagePlugin.PngImageFile image mode=RGB size=82x40 at 0x7F3520A03F50>, <PIL.PngImagePlugin.PngImageFile image mode=RGB size=145x65 at 0x7F3520A03FD0>, <PIL.PngImagePlugin.PngImageFile image mode=RGB size=155x70 at 0x7F3520A12090>, <PIL.PngImagePlugin.PngImageFile image mode=RGB size=233x95 at 0x7F3520A12110>, <PIL.PngImagePlugin.PngImageFile image mode=RGB size=139x45 at 0x7F3520A12190>, <PIL.PngImagePlugin.PngImageFile image mode=RGB size=165x74 at 0x7F3520A12210>, <PIL.PngImagePlugin.PngImageFile image mode=RGB size=98x40 at 0x7F3520A12290>, <PIL.PngImagePlugin.PngImageFile image mode=RGB size=450x208 at 0x7F3520A12310>, <PIL.PngImagePlugin.PngImageFile image mode=RGB size=432x153 at 0x7F3520A12390>, <PIL.PngImagePlugin.PngImageFile image mode=RGB size=175x76 at 0x7F3520A12410>, <PIL.PngImagePlugin.PngImageFile image mode=RGB size=452x154 at 0x7F3520A12490>, <PIL.PngImagePlugin.PngImageFile image mode=RGB size=240x114 at 0x7F3520A12510>, <PIL.PngImagePlugin.PngImageFile image mode=RGB size=149x52 at 0x7F3520A12590>, <PIL.PngImagePlugin.PngImageFile image mode=RGB size=90x41 at 0x7F3520A12610>, <PIL.PngImagePlugin.PngImageFile image mode=RGB size=106x42 at 0x7F3520A12690>, <PIL.PngImagePlugin.PngImageFile image mode=RGB size=91x42 at 0x7F3520A12710>, <PIL.PngImagePlugin.PngImageFile image mode=RGB size=179x73 at 0x7F3520A12790>, <PIL.PngImagePlugin.PngImageFile image mode=RGB size=53x19 at 0x7F3520A12810>, <PIL.PngImagePlugin.PngImageFile image mode=RGB size=118x43 at 0x7F3520A12890>, <PIL.PngImagePlugin.PngImageFile image mode=RGB size=138x52 at 0x7F3520A12910>, <PIL.PngImagePlugin.PngImageFile image mode=RGB size=124x40 at 0x7F3520A12990>, <PIL.PngImagePlugin.PngImageFile image mode=RGB size=124x47 at 0x7F3520A12A10>, <PIL.PngImagePlugin.PngImageFile image mode=RGB size=121x60 at 0x7F3520A12A90>, <PIL.PngImagePlugin.PngImageFile image mode=RGB size=76x28 at 0x7F3520A12B10>, <PIL.PngImagePlugin.PngImageFile image mode=RGB size=154x59 at 0x7F3520A12B90>, <PIL.PngImagePlugin.PngImageFile image mode=RGB size=226x77 at 0x7F3520A12C10>, <PIL.PngImagePlugin.PngImageFile image mode=RGB size=204x143 at 0x7F3520A12C90>, <PIL.PngImagePlugin.PngImageFile image mode=RGB size=128x55 at 0x7F3520A12D10>, <PIL.PngImagePlugin.PngImageFile image mode=RGB size=287x97 at 0x7F3520A12D90>, <PIL.PngImagePlugin.PngImageFile image mode=RGB size=479x222 at 0x7F3520A12E10>, <PIL.PngImagePlugin.PngImageFile image mode=RGB size=41x19 at 0x7F3520A12E90>, <PIL.PngImagePlugin.PngImageFile image mode=RGB size=79x35 at 0x7F3520A12F10>, <PIL.PngImagePlugin.PngImageFile image mode=RGB size=75x34 at 0x7F3520A12F90>, <PIL.PngImagePlugin.PngImageFile image mode=RGB size=94x43 at 0x7F3520A22050>, <PIL.PngImagePlugin.PngImageFile image mode=RGB size=107x41 at 0x7F3520A220D0>, <PIL.PngImagePlugin.PngImageFile image mode=RGB size=66x28 at 0x7F3520A22150>, <PIL.PngImagePlugin.PngImageFile image mode=RGB size=409x166 at 0x7F3520A221D0>, <PIL.PngImagePlugin.PngImageFile image mode=RGB size=305x124 at 0x7F3520A22250>, <PIL.PngImagePlugin.PngImageFile image mode=RGB size=90x38 at 0x7F3520A222D0>, <PIL.PngImagePlugin.PngImageFile image mode=RGB size=87x35 at 0x7F3520A22350>, <PIL.PngImagePlugin.PngImageFile image mode=RGB size=134x49 at 0x7F3520A223D0>, <PIL.PngImagePlugin.PngImageFile image mode=RGB size=102x37 at 0x7F3520A22450>, <PIL.PngImagePlugin.PngImageFile image mode=RGB size=80x44 at 0x7F3520A224D0>, <PIL.PngImagePlugin.PngImageFile image mode=RGB size=239x100 at 0x7F3520A22550>, <PIL.PngImagePlugin.PngImageFile image mode=RGB size=102x44 at 0x7F3520A225D0>, <PIL.PngImagePlugin.PngImageFile image mode=RGB size=66x32 at 0x7F3520A22650>, <PIL.PngImagePlugin.PngImageFile image mode=RGB size=227x75 at 0x7F3520A226D0>]\n"
     ]
    }
   ],
   "source": [
    "def convert_to(images, labels, name):\n",
    "  num_examples = labels.shape[0]\n",
    "  if images.shape[0] != num_examples:\n",
    "    raise ValueError(\"Images size %d does not match label size %d.\" %\n",
    "                     (images.shape[0], num_examples))\n",
    "  rows = images.shape[1]\n",
    "  cols = images.shape[2]\n",
    "  depth = images.shape[3]\n",
    "\n",
    "  filename = os.path.join(FLAGS.directory, name + '.tfrecords')\n",
    "  print('Writing', filename)\n",
    "  writer = tf.python_io.TFRecordWriter(filename)\n",
    "  for index in range(num_examples):\n",
    "    image_raw = images[index].tostring()\n",
    "    example = tf.train.Example(features=tf.train.Features(feature={\n",
    "        'height': _int64_feature(rows),\n",
    "        'width': _int64_feature(cols),\n",
    "        'depth': _int64_feature(depth),\n",
    "        'label': _int64_feature(int(labels[index])),\n",
    "        'image_raw': _bytes_feature(image_raw)}))\n",
    "    writer.write(example.SerializeToString())"
   ]
  },
  {
   "cell_type": "code",
   "execution_count": null,
   "metadata": {
    "collapsed": true
   },
   "outputs": [],
   "source": []
  }
 ],
 "metadata": {
  "kernelspec": {
   "display_name": "Python 2",
   "language": "python",
   "name": "python2"
  },
  "language_info": {
   "codemirror_mode": {
    "name": "ipython",
    "version": 2
   },
   "file_extension": ".py",
   "mimetype": "text/x-python",
   "name": "python",
   "nbconvert_exporter": "python",
   "pygments_lexer": "ipython2",
   "version": "2.7.12"
  }
 },
 "nbformat": 4,
 "nbformat_minor": 1
}
