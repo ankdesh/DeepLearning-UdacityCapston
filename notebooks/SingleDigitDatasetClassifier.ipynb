{
 "cells": [
  {
   "cell_type": "code",
   "execution_count": 1,
   "metadata": {
    "collapsed": true
   },
   "outputs": [],
   "source": [
    "from __future__ import absolute_import\n",
    "from __future__ import division\n",
    "from __future__ import print_function\n",
    "\n",
    "from sklearn import metrics\n",
    "import tensorflow as tf\n",
    "from tensorflow.contrib import learn"
   ]
  },
  {
   "cell_type": "code",
   "execution_count": null,
   "metadata": {
    "collapsed": true
   },
   "outputs": [],
   "source": [
    "def max_pool_2x2(tensor_in):\n",
    "  return tf.nn.max_pool(\n",
    "      tensor_in, ksize=[1, 2, 2, 1], strides=[1, 2, 2, 1], padding='SAME')\n",
    "\n",
    "\n",
    "def conv_model(X, y):\n",
    "  # reshape X to 4d tensor with 2nd and 3rd dimensions being image width and\n",
    "  # height final dimension being the number of color channels.\n",
    "  X = tf.reshape(X, [-1, 28, 28, 1])\n",
    "  # first conv layer will compute 32 features for each 5x5 patch\n",
    "  with tf.variable_scope('conv_layer1'):\n",
    "    h_conv1 = learn.ops.conv2d(X, n_filters=32, filter_shape=[5, 5],\n",
    "                               bias=True, activation=tf.nn.relu)\n",
    "    h_pool1 = max_pool_2x2(h_conv1)\n",
    "  # second conv layer will compute 64 features for each 5x5 patch.\n",
    "  with tf.variable_scope('conv_layer2'):\n",
    "    h_conv2 = learn.ops.conv2d(h_pool1, n_filters=64, filter_shape=[5, 5],\n",
    "                               bias=True, activation=tf.nn.relu)\n",
    "    h_pool2 = max_pool_2x2(h_conv2)\n",
    "    # reshape tensor into a batch of vectors\n",
    "    h_pool2_flat = tf.reshape(h_pool2, [-1, 7 * 7 * 64])\n",
    "  # densely connected layer with 1024 neurons.\n",
    "  h_fc1 = learn.ops.dnn(\n",
    "      h_pool2_flat, [1024], activation=tf.nn.relu, dropout=0.5)\n",
    "  return learn.models.logistic_regression(h_fc1, y)"
   ]
  }
 ],
 "metadata": {
  "kernelspec": {
   "display_name": "Python 2",
   "language": "python",
   "name": "python2"
  },
  "language_info": {
   "codemirror_mode": {
    "name": "ipython",
    "version": 2
   },
   "file_extension": ".py",
   "mimetype": "text/x-python",
   "name": "python",
   "nbconvert_exporter": "python",
   "pygments_lexer": "ipython2",
   "version": "2.7.12"
  }
 },
 "nbformat": 4,
 "nbformat_minor": 1
}
